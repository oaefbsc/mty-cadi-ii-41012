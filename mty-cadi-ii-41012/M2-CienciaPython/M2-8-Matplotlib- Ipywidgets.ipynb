{
 "cells": [
  {
   "cell_type": "markdown",
   "metadata": {},
   "source": [
    "# Ipywidgets"
   ]
  },
  {
   "cell_type": "markdown",
   "metadata": {},
   "source": [
    "**ipywidgets** es un biblioteca que que permite hacer gráficos interactivos basados en `matplotlib`.\n",
    "Con la función **interact** se crean controles interactivos."
   ]
  },
  {
   "cell_type": "code",
   "execution_count": null,
   "metadata": {},
   "outputs": [],
   "source": [
    "%matplotlib inline\n",
    "from matplotlib import pyplot as plt\n",
    "import numpy as np"
   ]
  },
  {
   "cell_type": "code",
   "execution_count": null,
   "metadata": {},
   "outputs": [],
   "source": [
    "# instalar ipywidgets con pip\n",
    "#from __future__ import print_function\n",
    "from ipywidgets import interact, interactive, fixed, interact_manual\n",
    "import ipywidgets as widgets"
   ]
  },
  {
   "cell_type": "markdown",
   "metadata": {},
   "source": [
    "$$ f(x) = 2x  \\sin(2 \\pi x)$$"
   ]
  },
  {
   "cell_type": "code",
   "execution_count": null,
   "metadata": {},
   "outputs": [],
   "source": [
    "x = np.linspace(0,3, num=300)\n",
    "y = 2 * x * np.sin(8 * np.pi * x)\n",
    "plt.plot(x, y, color = '#FFB74D')"
   ]
  },
  {
   "cell_type": "code",
   "execution_count": null,
   "metadata": {},
   "outputs": [],
   "source": [
    "freq = 8*np.pi\n",
    "\n",
    "x = np.linspace(0,3, num=200)\n",
    "y = x * np.sin(freq * x)\n",
    "plt.plot(x, y, color = '#FFB74D')"
   ]
  },
  {
   "cell_type": "code",
   "execution_count": null,
   "metadata": {},
   "outputs": [],
   "source": [
    "def pinta_funcion(freq):\n",
    "    x = np.linspace(0,3, num=200)\n",
    "    y = x * np.sin(freq * x)\n",
    "    plt.plot(x, y, color = '#FFB74D' )\n",
    "    plt.ylim(-5, 5)\n",
    "    plt.title(u\"Grafica de funcion\")"
   ]
  },
  {
   "cell_type": "code",
   "execution_count": null,
   "metadata": {},
   "outputs": [],
   "source": [
    "pinta_funcion(12 * np.pi)"
   ]
  },
  {
   "cell_type": "code",
   "execution_count": null,
   "metadata": {},
   "outputs": [],
   "source": [
    "interact(pinta_funcion, freq=(2 * np.pi, 2 * np.pi * 10.0))"
   ]
  },
  {
   "cell_type": "markdown",
   "metadata": {},
   "source": [
    "## Basic interact"
   ]
  },
  {
   "cell_type": "code",
   "execution_count": null,
   "metadata": {},
   "outputs": [],
   "source": [
    "def f(x):\n",
    "    print(x)"
   ]
  },
  {
   "cell_type": "code",
   "execution_count": null,
   "metadata": {},
   "outputs": [],
   "source": [
    "interact(f, x = 10)"
   ]
  },
  {
   "cell_type": "code",
   "execution_count": null,
   "metadata": {},
   "outputs": [],
   "source": [
    "interact(f, x = True)"
   ]
  },
  {
   "cell_type": "code",
   "execution_count": null,
   "metadata": {},
   "outputs": [],
   "source": [
    "interact(f, x = \"oscar\")"
   ]
  },
  {
   "cell_type": "code",
   "execution_count": null,
   "metadata": {},
   "outputs": [],
   "source": [
    "# con decoradores\n",
    "@interact(x = True, y = 1.0)\n",
    "def g(x, y):\n",
    "    print(x, y)"
   ]
  },
  {
   "cell_type": "code",
   "execution_count": null,
   "metadata": {},
   "outputs": [],
   "source": [
    "def h(p,q):\n",
    "    print (p, q)"
   ]
  },
  {
   "cell_type": "code",
   "execution_count": null,
   "metadata": {},
   "outputs": [],
   "source": [
    "interact(h, p = 5, q = fixed(20))"
   ]
  },
  {
   "cell_type": "code",
   "execution_count": null,
   "metadata": {},
   "outputs": [],
   "source": [
    "interact(f, x=widgets.IntSlider(min = -10, max = 30, step = 2, value = 10));"
   ]
  }
 ],
 "metadata": {
  "kernelspec": {
   "display_name": "Python 3",
   "language": "python",
   "name": "python3"
  },
  "language_info": {
   "codemirror_mode": {
    "name": "ipython",
    "version": 3
   },
   "file_extension": ".py",
   "mimetype": "text/x-python",
   "name": "python",
   "nbconvert_exporter": "python",
   "pygments_lexer": "ipython3",
   "version": "3.6.5"
  },
  "widgets": {
   "state": {
    "00e2197882944193a814156f246c5baf": {
     "views": [
      {
       "cell_index": 13
      }
     ]
    },
    "0108bdbf7d1f49b8968391efbe2d73b6": {
     "views": []
    },
    "02b29e75b4d74b39827a910a68f4b13f": {
     "views": []
    },
    "06d3fadd4d2943e093578c325bb8dd2d": {
     "views": []
    },
    "0b24076bf3594cbf9298ce396cbbd05e": {
     "views": []
    },
    "10694bed52214e458af2366a8bbadc4b": {
     "views": []
    },
    "1334b4c9272d418fb7966ec518976801": {
     "views": []
    },
    "151e1b8242714cdba17fee28239d3761": {
     "views": []
    },
    "1d0ff1a81c4c4ad888a5a194f9a39d5a": {
     "views": []
    },
    "1f6a6e4129564beb8182c70c1a49abb2": {
     "views": []
    },
    "2485fa5c8a49404a8af4605dc8cc045f": {
     "views": []
    },
    "2af211cbcdb04347983858b7e45fab4a": {
     "views": []
    },
    "2f8c7eab1fa0402d95195d239296e9ea": {
     "views": []
    },
    "3027e5c2cb4a4d108511957646fc4113": {
     "views": []
    },
    "307d1b1b023f4bca947f8b163b0f526e": {
     "views": []
    },
    "31e0ec3465674ee9bf1dc7c289eccc12": {
     "views": []
    },
    "333eb044ad8a45b69521f85077606903": {
     "views": []
    },
    "3480feed8dfb41e5af1662e0bc8c6c33": {
     "views": []
    },
    "3a0ebbf73f9043c1a4b97805f590f00c": {
     "views": []
    },
    "40ec7920af5944edbac2c8ebc437ee8d": {
     "views": []
    },
    "4927dd5889114c958f64dda054f9a60b": {
     "views": []
    },
    "4df49199469c4b9481ad9fde63b5128f": {
     "views": []
    },
    "50850018268a4cf78df75299148d631c": {
     "views": []
    },
    "54edd5a35b0e4bc08bee17c42811adc5": {
     "views": []
    },
    "58d9434257a1474c981bdd728bed9690": {
     "views": []
    },
    "5a45288ec42247e084ef49c0c43cd7b6": {
     "views": []
    },
    "5b13602c2027496db164996c5a056945": {
     "views": []
    },
    "5de5d80467784d9ba90460982f206359": {
     "views": []
    },
    "5f1c4b4081084a999277517322455438": {
     "views": []
    },
    "6057f21b5ed7469da0b99b54b2cbc564": {
     "views": []
    },
    "615d5079d1ae41938a68cc1b7d627d2a": {
     "views": []
    },
    "640d70d3b3cf420e9559807acd84956c": {
     "views": []
    },
    "66556f82f6ac4fcd98f909f45ac0ac9b": {
     "views": []
    },
    "675651117d33499b8d9ae02a9e27b575": {
     "views": []
    },
    "6f60c8f196f443c593689c56553ad2cb": {
     "views": []
    },
    "715a9feba27547b5aad2ee147835e2f5": {
     "views": []
    },
    "7175806cd545489dac6dae9b2e2e8815": {
     "views": []
    },
    "7286c35f4a954978a90e8f852be62fa0": {
     "views": []
    },
    "74e9f61e3ab44d04928ef7575fac4193": {
     "views": []
    },
    "76ea64a50ab74b41973294b001e7b53d": {
     "views": []
    },
    "79ec9584ac124c15afe3d0775fe4810a": {
     "views": []
    },
    "7cf34f66e17b4159a836d62b92fd7e7a": {
     "views": []
    },
    "84cdc09579574fffad04b1513e77369d": {
     "views": [
      {
       "cell_index": 9
      }
     ]
    },
    "86b74badefcd466e8fae155d489886c9": {
     "views": []
    },
    "8881c9d5002c47489c6457a36c5ab2a4": {
     "views": []
    },
    "8edc4a01c38e47aba9ce7fb6ad0428a8": {
     "views": [
      {
       "cell_index": 15
      }
     ]
    },
    "9672b8bc59794ca1bdcab213d0018749": {
     "views": []
    },
    "9753645a39d94d11adcd0ecc7b368e77": {
     "views": []
    },
    "98be3730456146a1b076f4bac878520d": {
     "views": []
    },
    "993e26b22f494f8f8b0d00e2b981e022": {
     "views": []
    },
    "998aeac127bb4131b51428a6bdb48492": {
     "views": [
      {
       "cell_index": 17
      }
     ]
    },
    "99a711e7f4574b648ca89545cbd1baee": {
     "views": []
    },
    "a0c977ce47914ac58241c7e84d91af86": {
     "views": []
    },
    "a209f0a23a2f4046a61c40836d7586ca": {
     "views": []
    },
    "a3000bf1428348e29fcba0a497f2db56": {
     "views": []
    },
    "a3b399f964aa463a8883d57d486058a6": {
     "views": []
    },
    "a3d14c6cc5b945adb41e7e1fe241c6e4": {
     "views": []
    },
    "a42593aa05114c75b3a7dde14b7ff2dc": {
     "views": []
    },
    "a511e5690f414751bcd88f615d4d7f36": {
     "views": []
    },
    "a61825392435481da52db5afc4a8f3e0": {
     "views": []
    },
    "acbfefe8259f468180795c6ba0d18bc6": {
     "views": []
    },
    "ad046e0986d74c9fb808dffd4e20e0a8": {
     "views": []
    },
    "adb5063de4064bc99f890aeb96466ae9": {
     "views": []
    },
    "b15ddcfcfcfd4ad28d9f95f0291d197f": {
     "views": []
    },
    "bdab593274564937bd35c1b82dad8f4a": {
     "views": []
    },
    "bf104aee1cf44407abe8af20646625e5": {
     "views": []
    },
    "c03246eb07534108b3c7529ce9c187f3": {
     "views": []
    },
    "c4a65a6859b44275814e24b892ed68b9": {
     "views": []
    },
    "c554186d87f34d16892ee93cb4bc28cb": {
     "views": [
      {
       "cell_index": 18
      }
     ]
    },
    "c5e095a771734277b69d78dd71666284": {
     "views": []
    },
    "c72d38b81257454094ca3508618bb196": {
     "views": []
    },
    "c7cdac3399a3408bb9cafacf6333ef6d": {
     "views": []
    },
    "ca36714aab0c4b4e98969cbcc8367cd8": {
     "views": []
    },
    "cbf4e2451b294e0ab67610ffac99ccf8": {
     "views": []
    },
    "d06180608ccd4942b07e0f656c091dec": {
     "views": []
    },
    "d5e1fb1c107046e2bcf5bb86c757a87c": {
     "views": []
    },
    "d9c8c10901f64f89be585837062f880e": {
     "views": []
    },
    "e12b0dc283b144baa3ee7cca940e06cf": {
     "views": []
    },
    "e226c59a75624f6997bc2bd237a56646": {
     "views": []
    },
    "e6a0f19885c244bb97a5ddcb601cf094": {
     "views": [
      {
       "cell_index": 14
      }
     ]
    },
    "e6ccc65070c1486ebeeadf658fe1787b": {
     "views": []
    },
    "ea121679dc0f415d943b2b38992cd800": {
     "views": []
    },
    "edff9ce1fd864fd5a3a6efa842017b13": {
     "views": []
    },
    "f3629294c847497badd35c982e22b78d": {
     "views": []
    },
    "f74b771c3ee94640912d93ca6c86dc01": {
     "views": []
    },
    "f7e34e83829341598e44a695ba602c71": {
     "views": [
      {
       "cell_index": 12
      }
     ]
    }
   },
   "version": "1.1.2"
  }
 },
 "nbformat": 4,
 "nbformat_minor": 1
}
