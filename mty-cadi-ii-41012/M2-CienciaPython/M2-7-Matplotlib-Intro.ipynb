{
 "cells": [
  {
   "cell_type": "markdown",
   "metadata": {},
   "source": [
    "# Matplotlib"
   ]
  },
  {
   "cell_type": "markdown",
   "metadata": {},
   "source": [
    "* Es un estándar _de facto_ para visualización en Python\n",
    "* Pretende ser similar a las funciones de visualización de MATLAB\n",
    "* Existen diferentes formas de usarla: \n",
    "    * `pyplot`\n",
    "    * orientada a objetos"
   ]
  },
  {
   "cell_type": "code",
   "execution_count": null,
   "metadata": {},
   "outputs": [],
   "source": [
    "from IPython.display import HTML\n",
    "HTML('<iframe src=https://matplotlib.org width=900 height=350></iframe>')"
   ]
  },
  {
   "cell_type": "markdown",
   "metadata": {},
   "source": [
    "Vamos a utilizar el comando mágico `matplotlib` y activar el modo `inline` para que las figuras aparezcan incrustadas en el notebook."
   ]
  },
  {
   "cell_type": "code",
   "execution_count": null,
   "metadata": {},
   "outputs": [],
   "source": [
    "%matplotlib inline"
   ]
  },
  {
   "cell_type": "code",
   "execution_count": null,
   "metadata": {},
   "outputs": [],
   "source": [
    "import numpy as np\n",
    "import matplotlib.pyplot as plt"
   ]
  },
  {
   "cell_type": "markdown",
   "metadata": {},
   "source": [
    "## Interfaz pyplot\n",
    "\n",
    "* Función ```plot```: listas o arrays\n",
    "* Personalizacion de líneas, colores, leyendas\n",
    "* Otros tipos de gráficas: ```scatter, contour, fill_between```\n",
    "* Funciones en 1D y 2D\n",
    "* ```plt.savefig```"
   ]
  },
  {
   "cell_type": "code",
   "execution_count": null,
   "metadata": {},
   "outputs": [],
   "source": [
    "plt.plot([3, 0, -1, 4, 7, 2, 0])"
   ]
  },
  {
   "cell_type": "code",
   "execution_count": null,
   "metadata": {},
   "outputs": [],
   "source": [
    "plt.plot([0.1, 0.2, 0.3, 0.4, 0.5], [3, 0, -1, 4, 2])"
   ]
  },
  {
   "cell_type": "markdown",
   "metadata": {},
   "source": [
    "Se graficará la función $y = xe^{-x^2}$"
   ]
  },
  {
   "cell_type": "code",
   "execution_count": null,
   "metadata": {},
   "outputs": [],
   "source": [
    "def f(x):\n",
    "    return x* np.exp(-x **2)"
   ]
  },
  {
   "cell_type": "code",
   "execution_count": null,
   "metadata": {},
   "outputs": [],
   "source": [
    "x = np.linspace(-5, 5, num=100)"
   ]
  },
  {
   "cell_type": "code",
   "execution_count": null,
   "metadata": {},
   "outputs": [],
   "source": [
    "type(x)"
   ]
  },
  {
   "cell_type": "code",
   "execution_count": null,
   "metadata": {},
   "outputs": [],
   "source": [
    "plt.plot(x,f(x))"
   ]
  },
  {
   "cell_type": "markdown",
   "metadata": {},
   "source": [
    "La interfaz de pyplot permite agregar características al gráfico por medio de la llamada a los objetos definidos para cada tipo de gráfico."
   ]
  },
  {
   "cell_type": "code",
   "execution_count": null,
   "metadata": {},
   "outputs": [],
   "source": [
    "plt.plot(x,f(x), 'ob', label='Función f(x)')\n",
    "plt.xlabel('Eje x')\n",
    "plt.ylabel('$f(x) = xe^{-x^2}$')\n",
    "plt.grid(True)\n",
    "plt.legend()\n",
    "plt.title('$xe^{-x^2}$')"
   ]
  },
  {
   "cell_type": "markdown",
   "metadata": {},
   "source": [
    "Desde la ayuda de Jupyter es posible acceder a la página web de ```matplotlib``` donde se puede encontrar una galería extensa del tipo de gráficos que se pueden hacer. Cada ejemplo viene acompañado del código correspondiente."
   ]
  },
  {
   "cell_type": "markdown",
   "metadata": {},
   "source": [
    "## Objetos de pyplot"
   ]
  },
  {
   "cell_type": "code",
   "execution_count": null,
   "metadata": {},
   "outputs": [],
   "source": [
    "x"
   ]
  },
  {
   "cell_type": "code",
   "execution_count": null,
   "metadata": {},
   "outputs": [],
   "source": [
    "f(x)"
   ]
  },
  {
   "cell_type": "code",
   "execution_count": null,
   "metadata": {},
   "outputs": [],
   "source": [
    "fig, axes = plt.subplots()\n",
    "axes.plot(x, f(x), 'ro', label ='Funcion f(x)')\n",
    "\n",
    "axes.set_xlim(-2,4)\n",
    "axes.set_ylim(-1,1)\n",
    "axes.grid(True)\n",
    "fig.savefig(\"grafica1.pdf\")"
   ]
  },
  {
   "cell_type": "code",
   "execution_count": null,
   "metadata": {},
   "outputs": [],
   "source": [
    "fig, axes = plt.subplots(1,2, sharey=True)\n",
    "axes[0].plot(x,f(x), color = '#90A4AE')\n",
    "axes[0].set_xlabel('Eje x izquierda')\n",
    "axes[0].grid(True)\n",
    "axes[1].plot(x,f(x) + 1,'#4a235a')\n",
    "axes[1].set_xlabel('Eje x derecha')\n",
    "axes[1].grid(True)"
   ]
  },
  {
   "cell_type": "markdown",
   "metadata": {},
   "source": [
    "## Graficas de dispersión o Scater"
   ]
  },
  {
   "cell_type": "code",
   "execution_count": null,
   "metadata": {},
   "outputs": [],
   "source": [
    "x = np.random.randn(100)  # vector con 100 valores que siguen una distribución N(0, 1)\n",
    "y = np.random.randn(100)\n",
    "s = 100 * np.random.rand(100) # vector con el tamaño de los puntos\n",
    "plt.scatter(x,y,s)"
   ]
  },
  {
   "cell_type": "code",
   "execution_count": null,
   "metadata": {},
   "outputs": [],
   "source": [
    "x = np.random.randn(100)  # vector con 100 valores que siguen una distribución N(0, 1)\n",
    "y = np.random.randn(100)\n",
    "s = 500* np.random.rand(100) #vector que define el tamaño de los puntos\n",
    "c = np.random.rand(100)   # vector que define el color de los puntos\n",
    "\n",
    "plt.scatter(x,y,s,c, cmap='Wistia')\n",
    "plt.grid(True)\n",
    "plt.title('$E=mc^2$')"
   ]
  },
  {
   "cell_type": "markdown",
   "metadata": {},
   "source": [
    "Los colores pueden agregarse por medio su código hexadecimal y los mapas de colores como su código de mapa incluidos en el objeto `plt.cm` "
   ]
  },
  {
   "cell_type": "markdown",
   "metadata": {},
   "source": [
    "## Referencias\n",
    "\n",
    "* Documentación de pyplot http://matplotlib.org/api/pyplot_api.html\n",
    "* Tutorial de matplotlib en español http://pybonacci.wordpress.com/tag/tutorial-matplotlib-pyplot/\n",
    "* Referencia rápida de matplotlib http://www.scipy-lectures.org/intro/matplotlib/matplotlib.html#quick-references"
   ]
  },
  {
   "cell_type": "markdown",
   "metadata": {},
   "source": [
    "## Gráficos en 3D\n",
    "\n",
    "Se desea representar la función $g(x,y)= cos(x) + sin^2(y)$"
   ]
  },
  {
   "cell_type": "code",
   "execution_count": null,
   "metadata": {},
   "outputs": [],
   "source": [
    "x = np.linspace(-2,2)\n",
    "y = np.linspace(-2,2)\n",
    "\n",
    "xx,yy = np.meshgrid(x,y)"
   ]
  },
  {
   "cell_type": "code",
   "execution_count": null,
   "metadata": {},
   "outputs": [],
   "source": [
    "def g(x,y):\n",
    "    return np.cos(x) + np.sin(y)**2"
   ]
  },
  {
   "cell_type": "code",
   "execution_count": null,
   "metadata": {},
   "outputs": [],
   "source": [
    "zz = g(xx,yy)"
   ]
  },
  {
   "cell_type": "code",
   "execution_count": null,
   "metadata": {},
   "outputs": [],
   "source": [
    "fig , axes = plt.subplots()\n",
    "axes.contour(xx, yy, zz, cmap=plt.cm.autumn)"
   ]
  },
  {
   "cell_type": "code",
   "execution_count": null,
   "metadata": {},
   "outputs": [],
   "source": [
    "fig, axes = plt.subplots()\n",
    "axes.contourf(xx, yy, zz, np.linspace (-2,2), cmap = plt.cm.autumn)"
   ]
  },
  {
   "cell_type": "markdown",
   "metadata": {},
   "source": [
    "## Ejemplo real\n",
    "\n",
    "Se desea graficar un conjunto de datos contenidos en un archivo externo.\n",
    "Usamos el archivo _temperaturas.csv_ que tiene como campos STATION, DATE, MAX, MIN"
   ]
  },
  {
   "cell_type": "code",
   "execution_count": null,
   "metadata": {},
   "outputs": [],
   "source": [
    "datos = np.loadtxt('temperaturas.csv', usecols=(1,2,3), skiprows=1, delimiter=',')"
   ]
  },
  {
   "cell_type": "code",
   "execution_count": null,
   "metadata": {},
   "outputs": [],
   "source": [
    "type(datos)"
   ]
  },
  {
   "cell_type": "code",
   "execution_count": null,
   "metadata": {},
   "outputs": [],
   "source": [
    "fig, axes = plt.subplots()\n",
    "\n",
    "# cuenta el número de renglones del archivo\n",
    "n = len(datos[:, 1])\n",
    "# contruye un vector en el rango (0,n)\n",
    "x = np.arange(n)\n",
    "\n",
    "# grafica las temperaturas mínimas\n",
    "axes.plot(x, datos[:, 1], '#4DB6AC')\n",
    "# grafica las temperaturas máximas\n",
    "axes.plot(x, datos[:, 2], '#FF7043')\n",
    "# calcula temperatura media y la grafica\n",
    "temp_media = (datos[:, 1] + datos[:, 2])/2\n",
    "axes.plot(x,temp_media, '#FFEB3B')"
   ]
  }
 ],
 "metadata": {
  "kernelspec": {
   "display_name": "Python 3",
   "language": "python",
   "name": "python3"
  },
  "language_info": {
   "codemirror_mode": {
    "name": "ipython",
    "version": 3
   },
   "file_extension": ".py",
   "mimetype": "text/x-python",
   "name": "python",
   "nbconvert_exporter": "python",
   "pygments_lexer": "ipython3",
   "version": "3.6.5"
  }
 },
 "nbformat": 4,
 "nbformat_minor": 1
}
